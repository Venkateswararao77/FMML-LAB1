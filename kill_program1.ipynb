{
  "nbformat": 4,
  "nbformat_minor": 0,
  "metadata": {
    "colab": {
      "provenance": [],
      "include_colab_link": true
    },
    "kernelspec": {
      "name": "python3",
      "display_name": "Python 3"
    },
    "language_info": {
      "name": "python"
    }
  },
  "cells": [
    {
      "cell_type": "markdown",
      "metadata": {
        "id": "view-in-github",
        "colab_type": "text"
      },
      "source": [
        "<a href=\"https://colab.research.google.com/github/Venkateswararao77/FMML-LAB1/blob/main/kill_program1.ipynb\" target=\"_parent\"><img src=\"https://colab.research.google.com/assets/colab-badge.svg\" alt=\"Open In Colab\"/></a>"
      ]
    },
    {
      "cell_type": "markdown",
      "source": [
        "*Question* 1 the given integer is even or odd"
      ],
      "metadata": {
        "id": "numw8n_SY7CU"
      }
    },
    {
      "cell_type": "code",
      "execution_count": 2,
      "metadata": {
        "colab": {
          "base_uri": "https://localhost:8080/"
        },
        "id": "E-Eg7jRlVQ5Z",
        "outputId": "7f85605e-171e-4ca2-8bab-249d593338de"
      },
      "outputs": [
        {
          "output_type": "stream",
          "name": "stdout",
          "text": [
            "Enter number: 5\n",
            "Yes it is odd number\n"
          ]
        }
      ],
      "source": [
        "a = int(input(\"Enter number: \"))\n",
        "if(a % 2==0):\n",
        "  print(\"Yes it is even number\")\n",
        "else:\n",
        "  print(\"Yes it is odd number\")"
      ]
    },
    {
      "cell_type": "markdown",
      "source": [
        "Question 2 the given number is postive or negative"
      ],
      "metadata": {
        "id": "_1KARN17YzuV"
      }
    },
    {
      "cell_type": "code",
      "source": [
        "a = int(int(input(\"Enter a number:\")))\n",
        "if ( a>0):\n",
        "  print(\"Yes it is positive number:\")\n",
        "else:\n",
        "  print(\"Yes it is negative number:\")"
      ],
      "metadata": {
        "colab": {
          "base_uri": "https://localhost:8080/"
        },
        "id": "Sp6jtYgXY6Bv",
        "outputId": "ffed6f44-4166-4afc-9285-1662f5d97403"
      },
      "execution_count": 3,
      "outputs": [
        {
          "output_type": "stream",
          "name": "stdout",
          "text": [
            "Enter a number:8\n",
            "Yes it is positive number:\n"
          ]
        }
      ]
    },
    {
      "cell_type": "markdown",
      "source": [
        "Question 3 the square number"
      ],
      "metadata": {
        "id": "TVifKH4RbGo8"
      }
    },
    {
      "cell_type": "code",
      "source": [
        "num = int(input(\"Enter a number:\"))\n",
        "print(f\"The square of {num}: {num**2}\")"
      ],
      "metadata": {
        "colab": {
          "base_uri": "https://localhost:8080/"
        },
        "id": "a77a18iVbJPP",
        "outputId": "9557ae5c-001a-4919-ad90-b19bb5ab0d6e"
      },
      "execution_count": 4,
      "outputs": [
        {
          "output_type": "stream",
          "name": "stdout",
          "text": [
            "Enter a number:1\n",
            "The square of 1: 1\n"
          ]
        }
      ]
    },
    {
      "cell_type": "markdown",
      "source": [
        "Question 4 the sum of 3 numbers"
      ],
      "metadata": {
        "id": "oiVq3ho1e249"
      }
    },
    {
      "cell_type": "code",
      "source": [
        "a = int(input(\"Enter a number:\"))\n",
        "b = int(input(\"Enter a number:\"))\n",
        "c = int(input(\"Enter a number:\"))\n",
        "print(\"Sum of three numbers is\", a+b+c)"
      ],
      "metadata": {
        "colab": {
          "base_uri": "https://localhost:8080/"
        },
        "id": "WjzpvcHge5rd",
        "outputId": "dea49876-fca0-4a74-88f8-3dfb4adc4e79"
      },
      "execution_count": 6,
      "outputs": [
        {
          "output_type": "stream",
          "name": "stdout",
          "text": [
            "Enter a number:5\n",
            "Enter a number:3\n",
            "Enter a number:5\n",
            "Sum of three numbers is 13\n"
          ]
        }
      ]
    },
    {
      "cell_type": "markdown",
      "source": [
        "Question 5 the product of three numbers\n"
      ],
      "metadata": {
        "id": "X5wZ7-fDjYBH"
      }
    },
    {
      "cell_type": "code",
      "source": [
        "num1 = int(input(\"Enter a number:\"))\n",
        "num2 = int(input(\"Enter a number:\"))\n",
        "num3 = int(input(\"Enter a number:\"))\n",
        "print(\"product of three numbers is\", num1*num*2*num3)"
      ],
      "metadata": {
        "colab": {
          "base_uri": "https://localhost:8080/"
        },
        "id": "hGeA5FZtjhz-",
        "outputId": "6b2610b0-37eb-4326-b263-020dd278de84"
      },
      "execution_count": 7,
      "outputs": [
        {
          "output_type": "stream",
          "name": "stdout",
          "text": [
            "Enter a number:8\n",
            "Enter a number:7\n",
            "Enter a number:8\n",
            "product of three numbers is 128\n"
          ]
        }
      ]
    },
    {
      "cell_type": "markdown",
      "source": [
        "Question 6 remove spaces from a string"
      ],
      "metadata": {
        "id": "hRCh0u6FklqV"
      }
    },
    {
      "cell_type": "code",
      "source": [
        "str = input(\"Enter a string: \")\n",
        "print(str.replace(\" \", \"\"))"
      ],
      "metadata": {
        "colab": {
          "base_uri": "https://localhost:8080/"
        },
        "id": "c2w3BqbFmr_J",
        "outputId": "7591ca41-7276-4c73-a010-78225ad43605"
      },
      "execution_count": 8,
      "outputs": [
        {
          "output_type": "stream",
          "name": "stdout",
          "text": [
            "Enter a string: 10\n",
            "10\n"
          ]
        }
      ]
    },
    {
      "cell_type": "markdown",
      "source": [
        "Question 7 to conver fahrenheit into celsius"
      ],
      "metadata": {
        "id": "e1hHj7RyXsNn"
      }
    },
    {
      "cell_type": "code",
      "source": [
        "fahrenhiet = float(input(\"Enter a temperature in fahrenhiet:\"))\n",
        "celsius = (fahrenhiet - 32) * 5/9\n",
        "print(fahrenhiet, \"fahrenhiet is\", celsius)"
      ],
      "metadata": {
        "colab": {
          "base_uri": "https://localhost:8080/"
        },
        "id": "d64_N_GKX3vA",
        "outputId": "1dca420a-674d-4547-8e32-a2b363e9e118"
      },
      "execution_count": 9,
      "outputs": [
        {
          "output_type": "stream",
          "name": "stdout",
          "text": [
            "Enter a temperature in fahrenhiet:99\n",
            "99.0 fahrenhiet is 37.22222222222222\n"
          ]
        }
      ]
    },
    {
      "cell_type": "markdown",
      "source": [
        "Question 8 smallest number among three numbers"
      ],
      "metadata": {
        "id": "jQzQuBSuoART"
      }
    },
    {
      "cell_type": "code",
      "source": [
        "num1 = int(input(\"Enter a number:\"))\n",
        "num2 = int(input(\"Enter a number:\"))\n",
        "num3 = int(input(\"Enter a number:\"))\n",
        "print(\"The smallest number is\", min(num1,num2,num3))"
      ],
      "metadata": {
        "colab": {
          "base_uri": "https://localhost:8080/"
        },
        "id": "-xQHMuMooGNK",
        "outputId": "b94aad35-9db4-4fdf-dbc9-34b93caa1fcf"
      },
      "execution_count": 10,
      "outputs": [
        {
          "output_type": "stream",
          "name": "stdout",
          "text": [
            "Enter a number:88\n",
            "Enter a number:6\n",
            "Enter a number:7\n",
            "The smallest number is 6\n"
          ]
        }
      ]
    },
    {
      "cell_type": "markdown",
      "source": [
        "Question 9 greatest number among three numbers\n"
      ],
      "metadata": {
        "id": "BkyuDbQ1oijc"
      }
    },
    {
      "cell_type": "code",
      "source": [
        "num1 = int(input(\"Enter a number:\"))\n",
        "num2 = int(input(\"Enter a number:\"))\n",
        "num3 = int(input(\"Enter a number:\"))\n",
        "print(\"The largest number is\", max(num1,num2,num3))"
      ],
      "metadata": {
        "colab": {
          "base_uri": "https://localhost:8080/"
        },
        "id": "SrzYx5Omokig",
        "outputId": "dcd441da-1530-475e-8ef1-96336570da34"
      },
      "execution_count": 11,
      "outputs": [
        {
          "output_type": "stream",
          "name": "stdout",
          "text": [
            "Enter a number:6\n",
            "Enter a number:8\n",
            "Enter a number:3\n",
            "The largest number is 8\n"
          ]
        }
      ]
    },
    {
      "cell_type": "markdown",
      "source": [
        "Question 10 first 10 natural numbers"
      ],
      "metadata": {
        "id": "wnmRxETDo1E0"
      }
    },
    {
      "cell_type": "code",
      "source": [
        "for i in range (1,11):\n",
        "    print(i)"
      ],
      "metadata": {
        "colab": {
          "base_uri": "https://localhost:8080/"
        },
        "id": "zCk2ZnF4o3my",
        "outputId": "6f63f353-a126-4315-b356-20010e2fcc1d"
      },
      "execution_count": 12,
      "outputs": [
        {
          "output_type": "stream",
          "name": "stdout",
          "text": [
            "1\n",
            "2\n",
            "3\n",
            "4\n",
            "5\n",
            "6\n",
            "7\n",
            "8\n",
            "9\n",
            "10\n"
          ]
        }
      ]
    },
    {
      "cell_type": "code",
      "source": [
        "num = int(input(\"Enter a number :\"))\n",
        "print(\"The reverse of\", num, \"is\", int(str(num)[::-1]))\n"
      ],
      "metadata": {
        "id": "UEbs1NaRr-BX",
        "colab": {
          "base_uri": "https://localhost:8080/",
          "height": 307
        },
        "outputId": "8e0ee916-94ac-472c-9464-ca1bd0e112ab"
      },
      "execution_count": 15,
      "outputs": [
        {
          "name": "stdout",
          "output_type": "stream",
          "text": [
            "Enter a number :6\n"
          ]
        },
        {
          "output_type": "error",
          "ename": "TypeError",
          "evalue": "'str' object is not callable",
          "traceback": [
            "\u001b[0;31m---------------------------------------------------------------------------\u001b[0m",
            "\u001b[0;31mTypeError\u001b[0m                                 Traceback (most recent call last)",
            "\u001b[0;32m<ipython-input-15-f7755b9edd89>\u001b[0m in \u001b[0;36m<cell line: 0>\u001b[0;34m()\u001b[0m\n\u001b[1;32m      1\u001b[0m \u001b[0mnum\u001b[0m \u001b[0;34m=\u001b[0m \u001b[0mint\u001b[0m\u001b[0;34m(\u001b[0m\u001b[0minput\u001b[0m\u001b[0;34m(\u001b[0m\u001b[0;34m\"Enter a number :\"\u001b[0m\u001b[0;34m)\u001b[0m\u001b[0;34m)\u001b[0m\u001b[0;34m\u001b[0m\u001b[0;34m\u001b[0m\u001b[0m\n\u001b[0;32m----> 2\u001b[0;31m \u001b[0mprint\u001b[0m\u001b[0;34m(\u001b[0m\u001b[0;34m\"The reverse of\"\u001b[0m\u001b[0;34m,\u001b[0m \u001b[0mnum\u001b[0m\u001b[0;34m,\u001b[0m \u001b[0;34m\"is\"\u001b[0m\u001b[0;34m,\u001b[0m \u001b[0mint\u001b[0m\u001b[0;34m(\u001b[0m\u001b[0mstr\u001b[0m\u001b[0;34m(\u001b[0m\u001b[0mnum\u001b[0m\u001b[0;34m)\u001b[0m\u001b[0;34m[\u001b[0m\u001b[0;34m:\u001b[0m\u001b[0;34m:\u001b[0m\u001b[0;34m-\u001b[0m\u001b[0;36m1\u001b[0m\u001b[0;34m]\u001b[0m\u001b[0;34m)\u001b[0m\u001b[0;34m)\u001b[0m\u001b[0;34m\u001b[0m\u001b[0;34m\u001b[0m\u001b[0m\n\u001b[0m",
            "\u001b[0;31mTypeError\u001b[0m: 'str' object is not callable"
          ]
        }
      ]
    },
    {
      "cell_type": "markdown",
      "source": [
        "Question 11 reverse number"
      ],
      "metadata": {
        "id": "s96tPOd6qZ9L"
      }
    },
    {
      "cell_type": "markdown",
      "source": [
        "Question 12 sum of numbers in given range"
      ],
      "metadata": {
        "id": "iBVcI5bxpS9l"
      }
    },
    {
      "cell_type": "code",
      "source": [
        "start = input()\n",
        "end = input()\n",
        "sum = 0\n",
        "for i in range(int(start), int(end)+1):\n",
        "  sum += i\n",
        "print(sum)"
      ],
      "metadata": {
        "id": "cfLrVOcEpU4H",
        "colab": {
          "base_uri": "https://localhost:8080/"
        },
        "outputId": "ba8eb4c4-77c3-44ba-90d0-f6f2127a254d"
      },
      "execution_count": 16,
      "outputs": [
        {
          "output_type": "stream",
          "name": "stdout",
          "text": [
            "6\n",
            "8\n",
            "21\n"
          ]
        }
      ]
    },
    {
      "cell_type": "markdown",
      "source": [
        "Question 13 digits in given number"
      ],
      "metadata": {
        "id": "66aZ0i79pl02"
      }
    },
    {
      "cell_type": "code",
      "source": [
        "num = input()\n",
        "sum = 0\n",
        "for i in num:\n",
        "  sum+=int(i)\n",
        "  print(sum)"
      ],
      "metadata": {
        "id": "OPd47JzXqGae",
        "colab": {
          "base_uri": "https://localhost:8080/"
        },
        "outputId": "dd96386a-5d84-4a9f-9aaf-770aacf878c5"
      },
      "execution_count": 17,
      "outputs": [
        {
          "output_type": "stream",
          "name": "stdout",
          "text": [
            "9\n",
            "9\n"
          ]
        }
      ]
    },
    {
      "cell_type": "markdown",
      "source": [
        "Question 14 to print sum of n given natural numbers\n"
      ],
      "metadata": {
        "id": "K93yud8GaLGm"
      }
    },
    {
      "cell_type": "code",
      "source": [
        "n = int(input())\n",
        "sum_of_n_natural_numbers = (n * (n + 1)) // 2\n",
        "print(\"sum of\", n , \"natural numbers is\", sum_of_n_natural_numbers)\n"
      ],
      "metadata": {
        "colab": {
          "base_uri": "https://localhost:8080/"
        },
        "id": "hbqPCrghaStZ",
        "outputId": "aa2bbd92-a9f8-4351-bc9b-9ad98dbf6c51"
      },
      "execution_count": 18,
      "outputs": [
        {
          "output_type": "stream",
          "name": "stdout",
          "text": [
            "7\n",
            "sum of 7 natural numbers is 28\n"
          ]
        }
      ]
    },
    {
      "cell_type": "markdown",
      "source": [
        "Question 15 calculate area of square for the given side"
      ],
      "metadata": {
        "id": "GXMqZWN2aTl2"
      }
    },
    {
      "cell_type": "code",
      "source": [
        "side = float(input())\n",
        "area = side**2\n",
        "print(\"Area of the square is\", area)"
      ],
      "metadata": {
        "colab": {
          "base_uri": "https://localhost:8080/"
        },
        "id": "YJ8Q2KFxaa_V",
        "outputId": "eaf621b0-12c7-4902-c737-c33fc4891d61"
      },
      "execution_count": 19,
      "outputs": [
        {
          "output_type": "stream",
          "name": "stdout",
          "text": [
            "55\n",
            "Area of the square is 3025.0\n"
          ]
        }
      ]
    },
    {
      "cell_type": "markdown",
      "source": [
        "Question 16 to print all even numbers with in a given range"
      ],
      "metadata": {
        "id": "6Wz8uZETabxE"
      }
    },
    {
      "cell_type": "code",
      "source": [
        "start = int(input())\n",
        "end = int(input())\n",
        "for i in range(start, end+1):\n",
        "  if i%2==0:\n",
        "    print(i)"
      ],
      "metadata": {
        "colab": {
          "base_uri": "https://localhost:8080/"
        },
        "id": "_LqLEQ_1aj6c",
        "outputId": "b5e91ca2-e26a-4c6c-f33d-71b310543ffa"
      },
      "execution_count": 20,
      "outputs": [
        {
          "name": "stdout",
          "output_type": "stream",
          "text": [
            "55\n",
            "6\n"
          ]
        }
      ]
    },
    {
      "cell_type": "markdown",
      "source": [
        "Question 17 multiplication table in a give range"
      ],
      "metadata": {
        "id": "cxCqTVpxakae"
      }
    },
    {
      "cell_type": "code",
      "source": [
        "num = int(input())\n",
        "for i in range(1, 11):\n",
        "  print(num, \"x\", i ,\"=\", num*i)"
      ],
      "metadata": {
        "colab": {
          "base_uri": "https://localhost:8080/"
        },
        "id": "-r-ZK-ztarS5",
        "outputId": "ad1d8908-219b-4af5-b895-aa9e6a5a6d3f"
      },
      "execution_count": null,
      "outputs": [
        {
          "output_type": "stream",
          "name": "stdout",
          "text": [
            "2\n",
            "2 x 1 = 2\n",
            "2 x 2 = 4\n",
            "2 x 3 = 6\n",
            "2 x 4 = 8\n",
            "2 x 5 = 10\n",
            "2 x 6 = 12\n",
            "2 x 7 = 14\n",
            "2 x 8 = 16\n",
            "2 x 9 = 18\n",
            "2 x 10 = 20\n"
          ]
        }
      ]
    },
    {
      "cell_type": "markdown",
      "source": [
        "Question 18 first 10 natural numbers in a line seperated with comma"
      ],
      "metadata": {
        "id": "MNq0bu2Fug9D"
      }
    },
    {
      "cell_type": "code",
      "source": [
        "n = 11\n",
        "for i in range(1,n):\n",
        "    print(i, end=\",\")"
      ],
      "metadata": {
        "id": "Zh12WsA6uj_C",
        "colab": {
          "base_uri": "https://localhost:8080/"
        },
        "outputId": "c14c011c-6e81-4faf-bc9c-cdc28c7f011c"
      },
      "execution_count": null,
      "outputs": [
        {
          "output_type": "stream",
          "name": "stdout",
          "text": [
            "1,2,3,4,5,6,7,8,9,10,"
          ]
        }
      ]
    },
    {
      "cell_type": "markdown",
      "source": [
        "Question 19"
      ],
      "metadata": {
        "id": "J8jdG5IpvGTb"
      }
    },
    {
      "cell_type": "code",
      "source": [
        "str1 = input(\"Enter a first string:\")\n",
        "str2 = input(\"Enter a second string:\")\n",
        "print(str1+str2)"
      ],
      "metadata": {
        "id": "jbrVYooVvKaQ",
        "colab": {
          "base_uri": "https://localhost:8080/"
        },
        "outputId": "0f0dfaa2-3bdb-4e9c-b6a9-f26adcd4c97d"
      },
      "execution_count": null,
      "outputs": [
        {
          "output_type": "stream",
          "name": "stdout",
          "text": [
            "Enter a first string:hi\n",
            "Enter a second string:hello\n",
            "hihello\n"
          ]
        }
      ]
    },
    {
      "cell_type": "markdown",
      "source": [
        "Question 20 take a string as input and print the input in seperate lines use loops"
      ],
      "metadata": {
        "id": "RHPz-o_MTF25"
      }
    },
    {
      "cell_type": "code",
      "source": [
        "str= input(\"Enter a string\")\n",
        "for char in str:\n",
        "  print(char)\n"
      ],
      "metadata": {
        "colab": {
          "base_uri": "https://localhost:8080/"
        },
        "id": "uNcGLslFTJgG",
        "outputId": "2f76ea29-ef9e-4975-dbe6-292ca0ca185e"
      },
      "execution_count": null,
      "outputs": [
        {
          "output_type": "stream",
          "name": "stdout",
          "text": [
            "Enter a stringhello\n",
            "h\n",
            "e\n",
            "l\n",
            "l\n",
            "o\n"
          ]
        }
      ]
    }
  ]
}